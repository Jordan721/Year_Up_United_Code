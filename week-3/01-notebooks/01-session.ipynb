{
  "cells": [
    {
      "cell_type": "markdown",
      "metadata": {
        "id": "UUOduRpCIdoE"
      },
      "source": [
        "# Session 1: Introduction to Lists\n",
        "\n",
        "Welcome to Session 1! Today we will review some fundamental programming concepts from previous sessions and then dive into lists—one of the most versatile data structures in Python. We will see how lists can store different types of values, how to manipulate them, and finally, you'll practice what you've learned through a guided exercise.\n",
        "\n",
        "## Agenda\n",
        "1. **Review and Demo** (15 minutes): Recap previous material and run a couple of live demos.\n",
        "2. **New Information – Introducing Lists** (40–45 minutes): Learn how to create, access, modify, and check membership in lists using several examples with different data types.\n",
        "3. **We Do and Wrap Up** (30 minutes): A hands-on exercise to solidify your understanding of lists."
      ]
    },
    {
      "cell_type": "markdown",
      "metadata": {
        "id": "Jw8y3Ea3IdoF"
      },
      "source": [
        "## Part 1: Review and Demo\n",
        "\n",
        "Before we dive into lists, let’s quickly review some core concepts from previous sessions.\n",
        "\n",
        "**Key Topics:**\n",
        "- Variables and assignment\n",
        "- Conditional statements (`if`/`else`)\n",
        "\n",
        "### Quick Review Questions:\n",
        "1. What is a variable and how do you assign a value to it?\n",
        "2. How do you write an `if`/`else` statement in Python?\n",
        "3. Why are conditionals important in controlling the flow of your code?\n",
        "\n",
        "Below are two code cells for live demos. **(No answers are provided so that you can fill them in live with the class.)**"
      ]
    },
    {
      "cell_type": "code",
      "execution_count": null,
      "metadata": {
        "id": "Ug2_VewLIdoF"
      },
      "outputs": [
        {
          "name": "stdout",
          "output_type": "stream",
          "text": [
            "bye class.\n"
          ]
        }
      ],
      "source": [
        "# Demo 1: Basic variable assignment and if/else condition\n",
        "\n",
        "number = 2\n",
        "\n",
        "if (number > 10):\n",
        "    print(\"hello class.\")\n",
        "else:\n",
        "    print(\"bye class.\")"
      ]
    },
    {
      "cell_type": "code",
      "execution_count": 8,
      "metadata": {
        "id": "PzliFYSmIdoG"
      },
      "outputs": [
        {
          "name": "stdout",
          "output_type": "stream",
          "text": [
            "These varibales are not equal\n"
          ]
        }
      ],
      "source": [
        "# Demo 2: Comparing two variables\n",
        "# Insert live demo code here\n",
        "\n",
        "example_variable_1 = \"orange\"\n",
        "\n",
        "example_variable_2 = \"Orange\"\n",
        "\n",
        "if example_variable_1 == example_variable_2:\n",
        "    print(\"These varibales are equal\")\n",
        "else:\n",
        "    print(\"These varibales are not equal\") "
      ]
    },
    {
      "cell_type": "markdown",
      "metadata": {
        "id": "g2rtkndlIdoG"
      },
      "source": [
        "Great! With these basics in mind, we can now explore lists."
      ]
    },
    {
      "cell_type": "markdown",
      "metadata": {
        "id": "Pmgo4NmvIdoG"
      },
      "source": [
        "## Part 2: New Information – Introducing Lists\n",
        "\n",
        "Lists in Python are ordered collections that can store multiple items. These items can be of any type (e.g., strings, numbers, booleans, etc.).\n",
        "\n",
        "### 1. Creating Lists\n",
        "You can create a list by placing items inside square brackets `[]` separated by commas. Below are examples with different types of values."
      ]
    },
    {
      "cell_type": "code",
      "execution_count": null,
      "metadata": {
        "id": "XH37XFuVIdoG"
      },
      "outputs": [
        {
          "name": "stdout",
          "output_type": "stream",
          "text": [
            "List of fruits: ['kiwi', 'banana', 'cherry']\n"
          ]
        }
      ],
      "source": [
        "# Creating a list of strings (fruits)\n",
        "fruits = ['apple', 'banana', 'cherry']\n",
        "\n",
        "# fruits [0] = 'kiwi' this modifies the first element of the list \n",
        "print('List of fruits:', fruits)"
      ]
    },
    {
      "cell_type": "code",
      "execution_count": null,
      "metadata": {},
      "outputs": [
        {
          "name": "stdout",
          "output_type": "stream",
          "text": [
            "Food Shopping list:\n",
            "List of food: ['frozen chicken', 'pasta', 'frozen fruits', 'pasta sause', 'pasta noodles', 'yogurt']\n",
            "List of drinks: ['water', 'orange juice', 'kool aid packets', 'ice tea mix', 'v8 juice', 'apple juice']\n"
          ]
        }
      ],
      "source": [
        "food_list = ['frozen chicken', 'pasta', 'frozen fruits', 'pasta sause', 'pasta noodles', 'yogurt']\n",
        "\n",
        "drink_list = ['water', 'orange juice', 'kool aid packets', 'ice tea mix', 'v8 juice', 'apple juice']\n",
        "\n",
        "print('Food Shopping list:')\n",
        "\n",
        "print('List of food:', food_list)\n",
        "\n",
        "print('List of drinks:', drink_list)\n",
        "\n",
        "#array or list is a sreies of items, numbers, names, ect.\n",
        "# [] these are quare brackets, they are usally used for a sries of list of values "
      ]
    },
    {
      "cell_type": "code",
      "execution_count": 13,
      "metadata": {
        "id": "gwkCOy2_IdoH"
      },
      "outputs": [
        {
          "name": "stdout",
          "output_type": "stream",
          "text": [
            "List of numbers: [1, 2, 3, 4, 5]\n"
          ]
        }
      ],
      "source": [
        "# Creating a list of integers (numbers)\n",
        "numbers = [1, 2, 3, 4, 5]\n",
        "print('List of numbers:', numbers)"
      ]
    },
    {
      "cell_type": "code",
      "execution_count": 14,
      "metadata": {
        "id": "YHQM3QKGIdoH"
      },
      "outputs": [
        {
          "name": "stdout",
          "output_type": "stream",
          "text": [
            "Mixed list: ['hello', 3.14, 42, True]\n"
          ]
        }
      ],
      "source": [
        "# Creating a list with mixed data types\n",
        "# While allowed, this makes us work harder\n",
        "mixed_list = ['hello', 3.14, 42, True]\n",
        "print('Mixed list:', mixed_list)"
      ]
    },
    {
      "cell_type": "markdown",
      "metadata": {
        "id": "o4odvDBcIdoH"
      },
      "source": [
        "### 2. Accessing and Modifying Elements\n",
        "\n",
        "Lists are zero-indexed, meaning the first element is at index `0`. You can access an element by its index and modify it by assigning a new value."
      ]
    },
    {
      "cell_type": "code",
      "execution_count": 9,
      "metadata": {
        "id": "4_rPHVULIdoH"
      },
      "outputs": [
        {
          "name": "stdout",
          "output_type": "stream",
          "text": [
            "First fruit: apple\n"
          ]
        }
      ],
      "source": [
        "# Accessing the first element of the fruits list\n",
        "print('First fruit:', fruits[0])"
      ]
    },
    {
      "cell_type": "code",
      "execution_count": 34,
      "metadata": {
        "id": "fjin81wMIdoH"
      },
      "outputs": [
        {
          "name": "stdout",
          "output_type": "stream",
          "text": [
            "Second number: 2\n"
          ]
        }
      ],
      "source": [
        "# Accessing the second element of the numbers list\n",
        "print('Second number:', numbers[1])"
      ]
    },
    {
      "cell_type": "code",
      "execution_count": 33,
      "metadata": {
        "id": "cBu4R03oIdoI"
      },
      "outputs": [
        {
          "name": "stdout",
          "output_type": "stream",
          "text": [
            "Original mixed list: ['world', 3.14, 42, True]\n",
            "Modified mixed list: ['world', 3.14, 42, True]\n"
          ]
        }
      ],
      "source": [
        "# Modifying an element in the mixed_list: change the first element\n",
        "print('Original mixed list:', mixed_list)\n",
        "mixed_list[0] = 'world'\n",
        "print('Modified mixed list:', mixed_list)"
      ]
    },
    {
      "cell_type": "markdown",
      "metadata": {
        "id": "HiP6cQu9IdoI"
      },
      "source": [
        "### 3. Adding and Removing Elements\n",
        "\n",
        "Lists are mutable, so you can change them after creation. Use the `append()` method to add an item, and `remove()` or `pop()` to remove items."
      ]
    },
    {
      "cell_type": "code",
      "execution_count": 28,
      "metadata": {
        "id": "-DhCrGDOIdoI"
      },
      "outputs": [
        {
          "name": "stdout",
          "output_type": "stream",
          "text": [
            "After appending orange: ['apple', 'banana', 'cherry', 'orange']\n"
          ]
        }
      ],
      "source": [
        "# Appending an element to the fruits list\n",
        "fruits.append('orange')\n",
        "print('After appending orange:', fruits)"
      ]
    },
    {
      "cell_type": "code",
      "execution_count": 29,
      "metadata": {
        "id": "PYwdaMc7IdoI"
      },
      "outputs": [
        {
          "name": "stdout",
          "output_type": "stream",
          "text": [
            "After removing banana: ['apple', 'cherry', 'orange']\n"
          ]
        }
      ],
      "source": [
        "# Removing an element from the fruits list (remove 'banana')\n",
        "fruits.remove('banana')\n",
        "print('After removing banana:', fruits)"
      ]
    },
    {
      "cell_type": "code",
      "execution_count": 84,
      "metadata": {
        "id": "lHhxGHDqIdoI"
      },
      "outputs": [
        {
          "ename": "IndexError",
          "evalue": "pop from empty list",
          "output_type": "error",
          "traceback": [
            "\u001b[31m---------------------------------------------------------------------------\u001b[39m",
            "\u001b[31mIndexError\u001b[39m                                Traceback (most recent call last)",
            "\u001b[36mCell\u001b[39m\u001b[36m \u001b[39m\u001b[32mIn[84]\u001b[39m\u001b[32m, line 2\u001b[39m\n\u001b[32m      1\u001b[39m \u001b[38;5;66;03m# Using pop() to remove the last element from the fruits list\u001b[39;00m\n\u001b[32m----> \u001b[39m\u001b[32m2\u001b[39m removed_item = \u001b[43mfruits\u001b[49m\u001b[43m.\u001b[49m\u001b[43mpop\u001b[49m\u001b[43m(\u001b[49m\u001b[43m)\u001b[49m\n\u001b[32m      3\u001b[39m \u001b[38;5;28mprint\u001b[39m(\u001b[33m'\u001b[39m\u001b[33mPopped item:\u001b[39m\u001b[33m'\u001b[39m, removed_item)\n\u001b[32m      4\u001b[39m \u001b[38;5;28mprint\u001b[39m(\u001b[33m'\u001b[39m\u001b[33mList after pop:\u001b[39m\u001b[33m'\u001b[39m, fruits)\n",
            "\u001b[31mIndexError\u001b[39m: pop from empty list"
          ]
        }
      ],
      "source": [
        "# Using pop() to remove the last element from the fruits list\n",
        "removed_item = fruits.pop()\n",
        "print('Popped item:', removed_item)\n",
        "print('List after pop:', fruits)"
      ]
    },
    {
      "cell_type": "markdown",
      "metadata": {
        "id": "7aHrurueIdoI"
      },
      "source": [
        "### 4. Checking for Membership\n",
        "\n",
        "To check if an item exists in a list, you can use the `in` keyword. This works with any data type stored in the list."
      ]
    },
    {
      "cell_type": "code",
      "execution_count": 85,
      "metadata": {
        "id": "UYfOSHOrIdoI"
      },
      "outputs": [
        {
          "name": "stdout",
          "output_type": "stream",
          "text": [
            "3 is in the numbers list.\n"
          ]
        }
      ],
      "source": [
        "# Membership check in the list of integers (numbers)\n",
        "if 3 in numbers:\n",
        "    print('3 is in the numbers list.')\n",
        "else:\n",
        "    print('3 is not in the numbers list.')"
      ]
    },
    {
      "cell_type": "code",
      "execution_count": 86,
      "metadata": {
        "id": "uNfbLgePIdoI"
      },
      "outputs": [
        {
          "name": "stdout",
          "output_type": "stream",
          "text": [
            "\"world\" is in the mixed list.\n"
          ]
        }
      ],
      "source": [
        "# Membership check in the mixed-type list\n",
        "if 'world' in mixed_list:\n",
        "    print('\"world\" is in the mixed list.')\n",
        "else:\n",
        "    print('\"world\" is not in the mixed list.')"
      ]
    },
    {
      "cell_type": "code",
      "execution_count": 87,
      "metadata": {
        "id": "6b6Zaq0WIdoI"
      },
      "outputs": [
        {
          "name": "stdout",
          "output_type": "stream",
          "text": [
            "The second element of example_list is 'example'.\n"
          ]
        }
      ],
      "source": [
        "# Additional Membership and Value Check\n",
        "# Create a list to test if the second element equals 'example'\n",
        "example_list = [\"sample\", \"example\", \"test\"]\n",
        "\n",
        "if example_list[1] == \"example\":\n",
        "    print(\"The second element of example_list is 'example'.\")\n",
        "else:\n",
        "    print(\"The second element of example_list is not 'example'.\")"
      ]
    },
    {
      "cell_type": "markdown",
      "metadata": {
        "id": "DFy6wKHiIdoI"
      },
      "source": [
        "### 5. More Examples with Different Types of Lists\n",
        "\n",
        "Below are additional examples showing list operations using different data types:"
      ]
    },
    {
      "cell_type": "code",
      "execution_count": 88,
      "metadata": {
        "id": "I586KRPrIdoJ"
      },
      "outputs": [
        {
          "name": "stdout",
          "output_type": "stream",
          "text": [
            "Floats: [1.1, 2.2, 3.3]\n"
          ]
        }
      ],
      "source": [
        "# List of floating-point numbers\n",
        "floats = [1.1, 2.2, 3.3]\n",
        "print('Floats:', floats)"
      ]
    },
    {
      "cell_type": "code",
      "execution_count": 89,
      "metadata": {
        "id": "OUtAZY5KIdoJ"
      },
      "outputs": [
        {
          "name": "stdout",
          "output_type": "stream",
          "text": [
            "Booleans: [True, False, True]\n"
          ]
        }
      ],
      "source": [
        "# List of booleans\n",
        "booleans = [True, False, True]\n",
        "print('Booleans:', booleans)"
      ]
    },
    {
      "cell_type": "markdown",
      "metadata": {
        "id": "TdgeELTCIdoJ"
      },
      "source": [
        "Now that we've covered the creation and manipulation of lists with multiple examples, let's move on to the guided exercise."
      ]
    },
    {
      "cell_type": "markdown",
      "metadata": {
        "id": "cXJT_8yvIdoJ"
      },
      "source": [
        "## Part 3: We Do and Wrap Up\n",
        "\n",
        "It's time to put these concepts into practice. In the exercise below, you will:\n",
        "\n",
        "1. Create a list called `my_numbers` containing the numbers 1 to 5.\n",
        "2. Append the number 6 to `my_numbers`.\n",
        "3. Remove the number 3 from the list.\n",
        "4. Check if the number 4 is in the list and print an appropriate message.\n",
        "5. **Bonus:** Create a mixed-type list and perform at least one operation (access, modify, append, or remove).\n",
        "\n",
        "Work on the exercise by filling in the code cells below."
      ]
    },
    {
      "cell_type": "code",
      "execution_count": null,
      "metadata": {
        "id": "caNiukj5IdoJ"
      },
      "outputs": [],
      "source": [
        "# Guided Exercise - Step 1:\n",
        "# Create a list called `my_numbers` containing the numbers 1 through 5.\n",
        "# Print the list."
      ]
    },
    {
      "cell_type": "code",
      "execution_count": null,
      "metadata": {
        "id": "Pl0mO6rqIdoJ"
      },
      "outputs": [],
      "source": [
        "# Guided Exercise - Step 2:\n",
        "# Append the number 6 to `my_numbers`.\n",
        "# Print the updated list."
      ]
    },
    {
      "cell_type": "code",
      "execution_count": null,
      "metadata": {
        "id": "7sFmeYZRIdoJ"
      },
      "outputs": [],
      "source": [
        "# Guided Exercise - Step 3:\n",
        "# Remove the number 3 from `my_numbers`.\n",
        "# Print the updated list."
      ]
    },
    {
      "cell_type": "code",
      "execution_count": null,
      "metadata": {
        "id": "DcHN2Y90IdoK"
      },
      "outputs": [],
      "source": [
        "# Guided Exercise - Step 4:\n",
        "# Check if the number 4 is in `my_numbers` and print an appropriate message."
      ]
    },
    {
      "cell_type": "code",
      "execution_count": null,
      "metadata": {
        "id": "vFKFly1OIdoK"
      },
      "outputs": [],
      "source": [
        "# Bonus:\n",
        "# Create a mixed-type list called `mixed_example`.\n",
        "# Perform at least one operation (access, modify, append, or remove) on the list."
      ]
    },
    {
      "cell_type": "markdown",
      "metadata": {
        "id": "WxQxFDD6IdoL"
      },
      "source": [
        "### Wrap-Up\n",
        "\n",
        "Today, we:\n",
        "- Reviewed basic concepts like variables and conditionals.\n",
        "- Learned about lists in Python: creating them with various types of values, accessing and modifying their elements, adding and removing items, and checking for membership.\n",
        "\n",
        "Feel free to continue experimenting with these examples or ask questions if anything is unclear. Great work today!"
      ]
    }
  ],
  "metadata": {
    "colab": {
      "provenance": []
    },
    "kernelspec": {
      "display_name": "Python 3",
      "language": "python",
      "name": "python3"
    },
    "language_info": {
      "codemirror_mode": {
        "name": "ipython",
        "version": 3
      },
      "file_extension": ".py",
      "mimetype": "text/x-python",
      "name": "python",
      "nbconvert_exporter": "python",
      "pygments_lexer": "ipython3",
      "version": "3.11.9"
    }
  },
  "nbformat": 4,
  "nbformat_minor": 0
}
