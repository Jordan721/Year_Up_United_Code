{
  "cells": [
    {
      "cell_type": "markdown",
      "metadata": {
        "id": "M2aBTr1jIE_J"
      },
      "source": [
        "# Session 2: Introduction to While Loops\n",
        "\n",
        "Welcome to Session 2! Today we will explore the concept of looping in Python using the **while loop**. We'll see how to repeat actions while a condition is true, and how to use while loops to iterate over lists. This session builds on basic variables and lists from our previous session.\n",
        "\n",
        "## Agenda\n",
        "1. **Review and Demo** (15 minutes): A brief review of basic concepts (including lists) with live demo cells.\n",
        "2. **New Information – Introducing While Loops** (40–45 minutes): Learn the syntax of while loops and see several basic examples, including using a counter and iterating over a list.\n",
        "3. **We Do and Wrap Up** (30 minutes): A guided exercise to practice writing while loops.\n"
      ]
    },
    {
      "cell_type": "markdown",
      "metadata": {
        "id": "P53I5YI1IE_J"
      },
      "source": [
        "## Part 1: Review and Demo\n",
        "\n",
        "Before we dive into while loops, let's quickly review some basic concepts such as variables, conditionals, and lists—since a while loop depends on a condition to determine when to stop.\n",
        "\n",
        "**Review Questions:**\n",
        "- What is a variable and how do you assign a value to it?\n",
        "- How do you write an `if`/`else` statement in Python?\n",
        "- How do you create and modify a list?\n",
        "- Why is it important to update conditions within a loop?\n",
        "\n",
        "Below are two demo cells for variables and conditionals. **(No answers are provided so that you can fill them in live with the class.)**"
      ]
    },
    {
      "cell_type": "code",
      "execution_count": null,
      "metadata": {
        "id": "fNTxita8IE_K"
      },
      "outputs": [],
      "source": [
        "# Demo 1: Simple variable assignment and if/else condition\n",
        "# Insert live demo code here\n",
        "ARRAY\n"
      ]
    },
    {
      "cell_type": "code",
      "execution_count": null,
      "metadata": {
        "id": "cjXFDLlGIE_K"
      },
      "outputs": [],
      "source": [
        "# Demo 2: Demonstrate a basic condition check for a while loop\n",
        "# Insert live demo code here"
      ]
    },
    {
      "cell_type": "markdown",
      "metadata": {
        "id": "LB_5l1xYIE_K"
      },
      "source": [
        "### Review Block: Working with Lists\n",
        "\n",
        "Let's review lists before we move on to while loops."
      ]
    },
    {
      "cell_type": "code",
      "execution_count": 46,
      "metadata": {
        "id": "AB9RBfWqIE_L"
      },
      "outputs": [
        {
          "name": "stdout",
          "output_type": "stream",
          "text": [
            "Super Mario Sunshine\n"
          ]
        }
      ],
      "source": [
        "# Review on Lists - Creating and Accessing Lists\n",
        "# For example: Create a list of your favorite colors and print the first and last elements.\n",
        "# Insert live demo code here\n",
        "\n",
        "few_of_fav_games = [\"Mario Party DS\", \"Super Mario Sunshine\", \"Super Mario World\", \"Uncharted 2\", \"Wario Land 4\" , \"Mario Galaxy 2\", \"Undertale\", \"Wario Master of Disguise\"]\n",
        "\n",
        "print(few_of_fav_games[1])"
      ]
    },
    {
      "cell_type": "code",
      "execution_count": 47,
      "metadata": {},
      "outputs": [
        {
          "name": "stdout",
          "output_type": "stream",
          "text": [
            "['Mario Party DS', 'AntonBlast', 'Uncharted 2', 'Wario Land 4', 'Mario Galaxy 2', 'Undertale', 'Wario Master of Disguise']\n"
          ]
        }
      ],
      "source": [
        "#Review on Lists - Modifying Lists\n",
        "# for example : Append a new color/or whatever to the list and remove one color/whatever, then print the updated list.\n",
        "# Insert live demo code here\n",
        "\n",
        "few_of_fav_games.append(\"Super Mario 64\")\n",
        "\n",
        "few_of_fav_games.remove(\"Super Mario Sunshine\")\n",
        "\n",
        "few_of_fav_games.pop()\n",
        "\n",
        "few_of_fav_games[1] = \"AntonBlast\"\n",
        "\n",
        "print(few_of_fav_games)\n",
        "\n",
        "#if you try to run this again youll get an error because the index is out of range meaning \n"
      ]
    },
    {
      "cell_type": "markdown",
      "metadata": {
        "id": "8eY5IEiyIE_L"
      },
      "source": [
        "# Session 2: Introduction to While Loops\n",
        "\n",
        "Welcome to Session 2! Today we will explore the concept of looping in Python using the **while loop**. We'll see how to repeat actions while a condition is true, and how to use while loops to iterate over lists. This session builds on basic variables and lists from our previous session.\n",
        "\n",
        "## Agenda\n",
        "1. **Review and Demo** (15 minutes): A brief review of basic concepts (including lists) with live demo cells.\n",
        "2. **New Information – Introducing While Loops** (40–45 minutes): Learn the syntax of while loops and see several basic examples, including using a counter and iterating over a list.\n",
        "3. **We Do and Wrap Up** (30 minutes): A guided exercise to practice writing while loops.\n"
      ]
    },
    {
      "cell_type": "markdown",
      "metadata": {
        "id": "CmqWnZMbIE_L"
      },
      "source": [
        "## Part 1: Review and Demo\n",
        "\n",
        "Before we dive into while loops, let's quickly review some basic concepts such as variables, conditionals, and lists—since a while loop depends on a condition to determine when to stop.\n",
        "\n",
        "**Review Questions:**\n",
        "- What is a variable and how do you assign a value to it?\n",
        "- How do you write an `if`/`else` statement in Python?\n",
        "- How do you create and modify a list?\n",
        "- Why is it important to update conditions within a loop?\n",
        "\n",
        "Below are two demo cells for variables and conditionals. **(No answers are provided so that you can fill them in live with the class.)**"
      ]
    },
    {
      "cell_type": "code",
      "execution_count": null,
      "metadata": {
        "id": "cs1IdJ06IE_L"
      },
      "outputs": [],
      "source": [
        "# Demo 1: Simple variable assignment and if/else condition\n",
        "# Insert live demo code here"
      ]
    },
    {
      "cell_type": "code",
      "execution_count": null,
      "metadata": {
        "id": "UIU65SHxIE_M"
      },
      "outputs": [],
      "source": [
        "# Demo 2: Demonstrate a basic condition check for a while loop\n",
        "# Insert live demo code here"
      ]
    },
    {
      "cell_type": "markdown",
      "metadata": {
        "id": "hZo2fb6rIE_M"
      },
      "source": [
        "### Review Block: Working with Lists\n",
        "\n",
        "Let's review lists before we move on to while loops."
      ]
    },
    {
      "cell_type": "code",
      "execution_count": null,
      "metadata": {
        "id": "6fBX2lTUIE_M"
      },
      "outputs": [],
      "source": [
        "# Review on Lists - Creating and Accessing Lists\n",
        "# For example: Create a list of your favorite colors and print the first and last elements.\n",
        "# Insert live demo code here"
      ]
    },
    {
      "cell_type": "code",
      "execution_count": null,
      "metadata": {
        "id": "HBbnvG_YIE_M"
      },
      "outputs": [],
      "source": [
        "# Review on Lists - Modifying Lists\n",
        "# For example: Append a new color to the list and remove one color, then print the updated list.\n",
        "# Insert live demo code here"
      ]
    },
    {
      "cell_type": "markdown",
      "metadata": {
        "id": "vjrPA-r_IE_M"
      },
      "source": [
        "Great! With these basics in mind, we can now explore while loops."
      ]
    },
    {
      "cell_type": "markdown",
      "metadata": {
        "id": "i-WijN2qIE_M"
      },
      "source": [
        "## Part 2: New Information – Introducing While Loops\n",
        "\n",
        "A **while loop** repeats a block of code as long as a specified condition is `True`. The basic structure is:\n",
        "\n",
        "```python\n",
        "while condition:\n",
        "    # code block to execute\n",
        "    # update something so that eventually the condition becomes False\n",
        "```\n",
        "\n",
        "Let's look at some examples."
      ]
    },
    {
      "cell_type": "code",
      "execution_count": 56,
      "metadata": {
        "id": "uV0TtAS3IE_M"
      },
      "outputs": [],
      "source": [
        "# Example 1: Using a while loop with a counter\n",
        "counter = 1\n",
        "while counter <= 5:\n",
        "    print(\"Counter is:\", counter)\n",
        "    counter += 1"
      ]
    },
    {
      "cell_type": "code",
      "execution_count": 64,
      "metadata": {
        "id": "St_0p9D2IE_M"
      },
      "outputs": [
        {
          "name": "stdout",
          "output_type": "stream",
          "text": [
            "Attempt 1: Checking if input is valid...\n",
            "Input is not valid yet.\n",
            "Attempt 2: Checking if input is valid...\n",
            "Input is not valid yet.\n",
            "Attempt 3: Checking if input is valid...\n",
            "Input is now valid!\n",
            "Successfully validated input.\n"
          ]
        }
      ],
      "source": [
        "# Example 2: Using a while loop with a boolean condition\n",
        "is_valid = False\n",
        "attempts = 0\n",
        "\n",
        "while not is_valid and attempts < 3:\n",
        "    print(f\"Attempt {attempts + 1}: Checking if input is valid...\")\n",
        "    # Simulate checking input\n",
        "    if attempts == 2:  # On the third attempt (index 2)\n",
        "        is_valid = True\n",
        "        print(\"Input is now valid!\")\n",
        "    else:\n",
        "        print(\"Input is not valid yet.\")\n",
        "        \n",
        "    attempts += 1\n",
        "\n",
        "if is_valid:\n",
        "    print(\"Successfully validated input.\")\n",
        "else:\n",
        "    print(\"Failed to validate input after 3 attempts.\")"
      ]
    },
    {
      "cell_type": "code",
      "execution_count": 66,
      "metadata": {
        "id": "K06S065BIE_N"
      },
      "outputs": [
        {
          "name": "stdout",
          "output_type": "stream",
          "text": [
            "Loop ended because the condition was false from the start\n"
          ]
        }
      ],
      "source": [
        "# Example 3: A while loop with a condition that's initially false\n",
        "counter = 10\n",
        "while counter < 5:\n",
        "    print(\"This will not print\")\n",
        "    counter += 1\n",
        "print(\"Loop ended because the condition was false from the start\")"
      ]
    },
    {
      "cell_type": "code",
      "execution_count": 69,
      "metadata": {
        "id": "JYL6H1eYIE_N"
      },
      "outputs": [
        {
          "name": "stdout",
          "output_type": "stream",
          "text": [
            "3\n",
            "2\n",
            "1\n",
            "Blastoff!\n"
          ]
        }
      ],
      "source": [
        "# Example 4: A simple countdown using a while loop\n",
        "count = 3\n",
        "while count > 0:\n",
        "    print(count)\n",
        "    count -= 1\n",
        "print(\"Blastoff!\")"
      ]
    },
    {
      "cell_type": "markdown",
      "metadata": {
        "id": "zYJMgoP8IE_N"
      },
      "source": [
        "Remember: Always update the variable used in the condition (such as `counter` or `index`) to avoid creating an infinite loop."
      ]
    },
    {
      "cell_type": "markdown",
      "metadata": {
        "id": "TzdFZoF9IE_N"
      },
      "source": [
        "## Part 3: We Do and Wrap Up\n",
        "\n",
        "Now it's time to practice what we've learned about while loops. In the exercises below, you will:\n",
        "\n",
        "1. Create a list called `my_numbers` containing the numbers 1 to 5 and print it.\n",
        "2. Use a while loop to iterate over `my_numbers` and print each element.\n",
        "3. Use a while loop to calculate the sum of all numbers in `my_numbers` and print the sum.\n",
        "4. **Bonus:** Use a while loop to print the numbers 5 to 1 in descending order.\n",
        "5. **Additional Exercise:** Use a while loop to compute the average of the numbers in `my_numbers` and print it.\n",
        "6. **Additional Exercise:** Use a while loop to compute the product of all numbers in `my_numbers` and print the result.\n",
        "\n",
        "Work on the exercises by filling in the code cells below."
      ]
    },
    {
      "cell_type": "code",
      "execution_count": 70,
      "metadata": {
        "id": "8NXsscPfIE_N"
      },
      "outputs": [
        {
          "name": "stdout",
          "output_type": "stream",
          "text": [
            "[1, 2, 3, 4, 5]\n"
          ]
        }
      ],
      "source": [
        "# Guided Exercise - Step 1:\n",
        "# Create a list called `my_numbers` containing the numbers 1 through 5 and print it.\n",
        "# Your code here\n",
        "\n",
        "my_numbers = [1, 2, 3, 4, 5]\n",
        "\n",
        "print(my_numbers)"
      ]
    },
    {
      "cell_type": "code",
      "execution_count": 72,
      "metadata": {
        "id": "B37bGtTRIE_N"
      },
      "outputs": [
        {
          "name": "stdout",
          "output_type": "stream",
          "text": [
            "1\n",
            "2\n",
            "3\n",
            "4\n",
            "5\n"
          ]
        }
      ],
      "source": [
        "# Guided Exercise - Step 2:\n",
        "# Use a while loop to iterate over `my_numbers` and print each element.\n",
        "# Your code here\n",
        "\n",
        "first_int = 0\n",
        "\n",
        "while first_int < 5:\n",
        "\n",
        "    print(my_numbers[first_int])\n",
        "\n",
        "    first_int += 1"
      ]
    },
    {
      "cell_type": "code",
      "execution_count": 77,
      "metadata": {
        "id": "s2upqqmWIE_N"
      },
      "outputs": [
        {
          "name": "stdout",
          "output_type": "stream",
          "text": [
            "1\n",
            "3\n",
            "6\n",
            "10\n",
            "15\n"
          ]
        }
      ],
      "source": [
        "# Guided Exercise - Step 3:\n",
        "# Use a while loop to calculate the sum of all numbers in `my_numbers` and print the sum.\n",
        "# Your code here\n",
        "\n",
        "\n",
        "first_int = 0\n",
        "sum = 0\n",
        "\n",
        "while first_int < len(my_numbers):\n",
        "\n",
        "    sum = sum + my_numbers[first_int]\n",
        "\n",
        "    first_int += 1\n",
        "\n",
        "    print(sum)"
      ]
    },
    {
      "cell_type": "code",
      "execution_count": null,
      "metadata": {
        "id": "DDJ34_uhIE_N"
      },
      "outputs": [],
      "source": [
        "# Bonus - Guided Exercise:\n",
        "# Use a while loop to print the numbers 5 to 1 in descending order.\n",
        "# Your code here"
      ]
    },
    {
      "cell_type": "code",
      "execution_count": null,
      "metadata": {
        "id": "lZqaE9oGIE_N"
      },
      "outputs": [],
      "source": [
        "# Additional Exercise - Step 5:\n",
        "# Use a while loop to compute the average of the numbers in `my_numbers` and print the average.\n",
        "# Your code here"
      ]
    },
    {
      "cell_type": "code",
      "execution_count": null,
      "metadata": {
        "id": "Nx_DXnmJIE_N"
      },
      "outputs": [],
      "source": [
        "# Additional Exercise - Step 6:\n",
        "# Use a while loop to compute the product of all numbers in `my_numbers` and print the product.\n",
        "# Your code here"
      ]
    },
    {
      "cell_type": "markdown",
      "metadata": {
        "id": "glcT1dY4IE_N"
      },
      "source": [
        "### Wrap-Up\n",
        "\n",
        "Today, we learned how to use while loops to repeat actions as long as a condition is true. We saw examples using a counter, iterating over a list, and even cases where the loop does not run because the condition is false. We also practiced several exercises, including computing the sum, average, and product of a list of numbers. Remember to always update your loop variable to avoid infinite loops. Great work today!"
      ]
    },
    {
      "cell_type": "code",
      "execution_count": null,
      "metadata": {
        "id": "0Tv4sM5QIE_N"
      },
      "outputs": [],
      "source": [
        "# Review on Lists - Modifying Lists\n",
        "# For example: Append a new color to the list and remove one color, then print the updated list.\n",
        "# Insert live demo code here"
      ]
    },
    {
      "cell_type": "markdown",
      "metadata": {
        "id": "g0BwSnwKIE_O"
      },
      "source": [
        "Great! With these basics in mind, we can now explore while loops."
      ]
    },
    {
      "cell_type": "markdown",
      "metadata": {
        "id": "tZjLIkmMIE_O"
      },
      "source": [
        "## Part 2: New Information – Introducing While Loops\n",
        "\n",
        "A **while loop** repeats a block of code as long as a specified condition is `True`. The basic structure is:\n",
        "\n",
        "```python\n",
        "while condition:\n",
        "    # code block to execute\n",
        "    # update something so that eventually the condition becomes False\n",
        "```\n",
        "\n",
        "Let's look at some examples."
      ]
    },
    {
      "cell_type": "code",
      "execution_count": null,
      "metadata": {
        "id": "Ke1ANL6OIE_O"
      },
      "outputs": [],
      "source": [
        "# Example 1: Using a while loop with a counter\n",
        "counter = 1\n",
        "while counter <= 5:\n",
        "    print(\"Counter is:\", counter)\n",
        "    counter += 1"
      ]
    },
    {
      "cell_type": "markdown",
      "metadata": {
        "id": "3ched3WqIE_O"
      },
      "source": [
        "# Session 2: Introduction to While Loops\n",
        "\n",
        "Welcome to Session 2! Today we will explore the concept of looping in Python using the **while loop**. We'll see how to repeat actions while a condition is true, and how to use while loops to iterate over lists. This session builds on basic variables and lists from our previous session.\n",
        "\n",
        "## Agenda\n",
        "1. **Review and Demo** (15 minutes): A brief review of basic concepts (including lists) with live demo cells.\n",
        "2. **New Information – Introducing While Loops** (40–45 minutes): Learn the syntax of while loops and see several basic examples, including using a counter and iterating over a list.\n",
        "3. **We Do and Wrap Up** (30 minutes): A guided exercise to practice writing while loops.\n"
      ]
    },
    {
      "cell_type": "markdown",
      "metadata": {
        "id": "44Jx4yO_IE_O"
      },
      "source": [
        "## Part 1: Review and Demo\n",
        "\n",
        "Before we dive into while loops, let's quickly review some basic concepts such as variables, conditionals, and lists—since a while loop depends on a condition to determine when to stop.\n",
        "\n",
        "**Review Questions:**\n",
        "- What is a variable and how do you assign a value to it?\n",
        "- How do you write an `if`/`else` statement in Python?\n",
        "- How do you create and modify a list?\n",
        "- Why is it important to update conditions within a loop?\n",
        "\n",
        "Below are two demo cells for variables and conditionals. **(No answers are provided so that you can fill them in live with the class.)**"
      ]
    },
    {
      "cell_type": "code",
      "execution_count": null,
      "metadata": {
        "id": "jXRIqHcoIE_O"
      },
      "outputs": [],
      "source": [
        "# Demo 1: Simple variable assignment and if/else condition\n",
        "# Insert live demo code here"
      ]
    },
    {
      "cell_type": "code",
      "execution_count": null,
      "metadata": {
        "id": "WSla-WoFIE_O"
      },
      "outputs": [],
      "source": [
        "# Demo 2: Demonstrate a basic condition check for a while loop\n",
        "# Insert live demo code here"
      ]
    },
    {
      "cell_type": "markdown",
      "metadata": {
        "id": "iFal5Kb-IE_O"
      },
      "source": [
        "### Review Block: Working with Lists\n",
        "\n",
        "Let's review lists before we move on to while loops."
      ]
    },
    {
      "cell_type": "code",
      "execution_count": null,
      "metadata": {
        "id": "zsWw333dIE_O"
      },
      "outputs": [],
      "source": [
        "# Review on Lists - Creating and Accessing Lists\n",
        "# For example: Create a list of your favorite colors and print the first and last elements.\n",
        "# Insert live demo code here"
      ]
    },
    {
      "cell_type": "code",
      "execution_count": null,
      "metadata": {
        "id": "WcQ-yNS7IE_O"
      },
      "outputs": [],
      "source": [
        "# Review on Lists - Modifying Lists\n",
        "# For example: Append a new color to the list and remove one color, then print the updated list.\n",
        "# Insert live demo code here"
      ]
    },
    {
      "cell_type": "markdown",
      "metadata": {
        "id": "Zu3BvcUwIE_R"
      },
      "source": [
        "Great! With these basics in mind, we can now explore while loops."
      ]
    },
    {
      "cell_type": "markdown",
      "metadata": {
        "id": "NhQ1ivYlIE_R"
      },
      "source": [
        "## Part 2: New Information – Introducing While Loops\n",
        "\n",
        "A **while loop** repeats a block of code as long as a specified condition is `True`. The basic structure is:\n",
        "\n",
        "```python\n",
        "while condition:\n",
        "    # code block to execute\n",
        "    # update something so that eventually the condition becomes False\n",
        "```\n",
        "\n",
        "Let's look at some examples."
      ]
    },
    {
      "cell_type": "code",
      "execution_count": null,
      "metadata": {
        "id": "o6SltTfuIE_S"
      },
      "outputs": [],
      "source": [
        "# Example 1: Using a while loop with a counter\n",
        "counter = 1\n",
        "while counter <= 5:\n",
        "    print(\"Counter is:\", counter)\n",
        "    counter += 1"
      ]
    },
    {
      "cell_type": "code",
      "execution_count": null,
      "metadata": {
        "id": "W5LzfT_OIE_S"
      },
      "outputs": [],
      "source": [
        "# Example 2: Using a while loop with a boolean condition\n",
        "is_valid = False\n",
        "attempts = 0\n",
        "\n",
        "while not is_valid and attempts < 3:\n",
        "    print(f\"Attempt {attempts + 1}: Checking if input is valid...\")\n",
        "    # Simulate checking input\n",
        "    if attempts == 2:  # On the third attempt (index 2)\n",
        "        is_valid = True\n",
        "        print(\"Input is now valid!\")\n",
        "    else:\n",
        "        print(\"Input is not valid yet.\")\n",
        "    attempts += 1\n",
        "\n",
        "if is_valid:\n",
        "    print(\"Successfully validated input.\")\n",
        "else:\n",
        "    print(\"Failed to validate input after 3 attempts.\")"
      ]
    },
    {
      "cell_type": "code",
      "execution_count": null,
      "metadata": {
        "id": "wdDpOZWxIE_S"
      },
      "outputs": [],
      "source": [
        "# Example 3: A while loop with a condition that's initially false\n",
        "counter = 10\n",
        "while counter < 5:\n",
        "    print(\"This will not print\")\n",
        "    counter += 1\n",
        "print(\"Loop ended because the condition was false from the start\")"
      ]
    },
    {
      "cell_type": "code",
      "execution_count": null,
      "metadata": {
        "id": "_R7PhNhDIE_S"
      },
      "outputs": [],
      "source": [
        "# Example 4: A simple countdown using a while loop\n",
        "count = 3\n",
        "while count > 0:\n",
        "    print(count)\n",
        "    count -= 1\n",
        "print(\"Blastoff!\")"
      ]
    },
    {
      "cell_type": "markdown",
      "metadata": {
        "id": "ZZfnkj1uIE_S"
      },
      "source": [
        "Remember: Always update the variable used in the condition (such as `counter` or `index`) to avoid creating an infinite loop."
      ]
    },
    {
      "cell_type": "markdown",
      "metadata": {
        "id": "3aG35XRFIE_S"
      },
      "source": [
        "## Part 3: We Do and Wrap Up\n",
        "\n",
        "Now it's time to practice what we've learned about while loops. In the exercises below, you will:\n",
        "\n",
        "1. Create a list called `my_numbers` containing the numbers 1 to 5 and print it.\n",
        "2. Use a while loop to iterate over `my_numbers` and print each element.\n",
        "3. Use a while loop to calculate the sum of all numbers in `my_numbers` and print the sum.\n",
        "4. **Bonus:** Use a while loop to print the numbers 5 to 1 in descending order.\n",
        "5. **Additional Exercise:** Use a while loop to compute the average of the numbers in `my_numbers` and print it.\n",
        "6. **Additional Exercise:** Use a while loop to compute the product of all numbers in `my_numbers` and print the result.\n",
        "\n",
        "Work on the exercises by filling in the code cells below."
      ]
    },
    {
      "cell_type": "code",
      "execution_count": null,
      "metadata": {
        "id": "Wsc04R-TIE_S"
      },
      "outputs": [],
      "source": [
        "# Guided Exercise - Step 1:\n",
        "# Create a list called `my_numbers` containing the numbers 1 through 5 and print it.\n",
        "# Your code here"
      ]
    },
    {
      "cell_type": "code",
      "execution_count": null,
      "metadata": {
        "id": "-LeZYHdqIE_S"
      },
      "outputs": [],
      "source": [
        "# Guided Exercise - Step 2:\n",
        "# Use a while loop to iterate over `my_numbers` and print each element.\n",
        "# Your code here"
      ]
    },
    {
      "cell_type": "code",
      "execution_count": null,
      "metadata": {
        "id": "GjqdmsqdIE_S"
      },
      "outputs": [],
      "source": [
        "# Guided Exercise - Step 3:\n",
        "# Use a while loop to calculate the sum of all numbers in `my_numbers` and print the sum.\n",
        "# Your code here"
      ]
    },
    {
      "cell_type": "code",
      "execution_count": null,
      "metadata": {
        "id": "PUC2LB5PIE_S"
      },
      "outputs": [],
      "source": [
        "# Bonus - Guided Exercise:\n",
        "# Use a while loop to print the numbers 5 to 1 in descending order.\n",
        "# Your code here"
      ]
    },
    {
      "cell_type": "code",
      "execution_count": null,
      "metadata": {
        "id": "5_Sd211-IE_T"
      },
      "outputs": [],
      "source": [
        "# Additional Exercise - Step 5:\n",
        "# Use a while loop to compute the average of the numbers in `my_numbers` and print the average.\n",
        "# Your code here"
      ]
    },
    {
      "cell_type": "code",
      "execution_count": null,
      "metadata": {
        "id": "l5ArFWAUIE_T"
      },
      "outputs": [],
      "source": [
        "# Additional Exercise - Step 6:\n",
        "# Use a while loop to compute the product of all numbers in `my_numbers` and print the product.\n",
        "# Your code here"
      ]
    },
    {
      "cell_type": "markdown",
      "metadata": {
        "id": "tsiKYwXOIE_T"
      },
      "source": [
        "### Wrap-Up\n",
        "\n",
        "Today, we learned how to use while loops to repeat actions as long as a condition is true. We saw examples using a counter, iterating over a list, and even cases where the loop does not run because the condition is false. We also practiced several exercises, including computing the sum, average, and product of a list of numbers. Remember to always update your loop variable to avoid infinite loops. Great work today!"
      ]
    },
    {
      "cell_type": "code",
      "execution_count": null,
      "metadata": {
        "id": "zTSN0PTMIE_T"
      },
      "outputs": [],
      "source": [
        "# Example 2: Using a while loop with a boolean condition\n",
        "is_valid = False\n",
        "attempts = 0\n",
        "\n",
        "while not is_valid and attempts < 3:\n",
        "    print(f\"Attempt {attempts + 1}: Checking if input is valid...\")\n",
        "    # Simulate checking input\n",
        "    if attempts == 2:  # On the third attempt (index 2)\n",
        "        is_valid = True\n",
        "        print(\"Input is now valid!\")\n",
        "    else:\n",
        "        print(\"Input is not valid yet.\")\n",
        "    attempts += 1\n",
        "\n",
        "if is_valid:\n",
        "    print(\"Successfully validated input.\")\n",
        "else:\n",
        "    print(\"Failed to validate input after 3 attempts.\")"
      ]
    },
    {
      "cell_type": "code",
      "execution_count": null,
      "metadata": {
        "id": "CpoNkUEbIE_T"
      },
      "outputs": [],
      "source": [
        "# Example 3: A while loop with a condition that's initially false\n",
        "counter = 10\n",
        "while counter < 5:\n",
        "    print(\"This will not print\")\n",
        "    counter += 1\n",
        "print(\"Loop ended because the condition was false from the start\")"
      ]
    },
    {
      "cell_type": "code",
      "execution_count": null,
      "metadata": {
        "id": "9uTnP6o4IE_T"
      },
      "outputs": [],
      "source": [
        "# Example 4: A simple countdown using a while loop\n",
        "count = 3\n",
        "while count > 0:\n",
        "    print(count)\n",
        "    count -= 1\n",
        "print(\"Blastoff!\")"
      ]
    },
    {
      "cell_type": "markdown",
      "metadata": {
        "id": "LVFD0A7jIE_T"
      },
      "source": [
        "Remember: Always update the variable used in the condition (such as `counter` or `index`) to avoid creating an infinite loop."
      ]
    },
    {
      "cell_type": "markdown",
      "metadata": {
        "id": "J5339u6-IE_T"
      },
      "source": [
        "## Part 3: We Do and Wrap Up\n",
        "\n",
        "Now it's time to practice what we've learned about while loops. In the exercises below, you will:\n",
        "\n",
        "1. Create a list called `my_numbers` containing the numbers 1 to 5 and print it.\n",
        "2. Use a while loop to iterate over `my_numbers` and print each element.\n",
        "3. Use a while loop to calculate the sum of all numbers in `my_numbers` and print the sum.\n",
        "4. **Bonus:** Use a while loop to print the numbers 5 to 1 in descending order.\n",
        "5. **Additional Exercise:** Use a while loop to compute the average of the numbers in `my_numbers` and print it.\n",
        "6. **Additional Exercise:** Use a while loop to compute the product of all numbers in `my_numbers` and print the result.\n",
        "\n",
        "Work on the exercises by filling in the code cells below."
      ]
    },
    {
      "cell_type": "code",
      "execution_count": null,
      "metadata": {
        "id": "s7I4dfNEIE_T"
      },
      "outputs": [],
      "source": [
        "# Guided Exercise - Step 1:\n",
        "# Create a list called `my_numbers` containing the numbers 1 through 5 and print it.\n",
        "# Your code here"
      ]
    },
    {
      "cell_type": "code",
      "execution_count": null,
      "metadata": {
        "id": "tq-B5_8AIE_T"
      },
      "outputs": [],
      "source": [
        "# Guided Exercise - Step 2:\n",
        "# Use a while loop to iterate over `my_numbers` and print each element.\n",
        "# Your code here"
      ]
    },
    {
      "cell_type": "code",
      "execution_count": null,
      "metadata": {
        "id": "BXQBCwC_IE_U"
      },
      "outputs": [],
      "source": [
        "# Guided Exercise - Step 3:\n",
        "# Use a while loop to calculate the sum of all numbers in `my_numbers` and print the sum.\n",
        "# Your code here"
      ]
    },
    {
      "cell_type": "code",
      "execution_count": null,
      "metadata": {
        "id": "g8W3GbljIE_U"
      },
      "outputs": [],
      "source": [
        "# Bonus - Guided Exercise:\n",
        "# Use a while loop to print the numbers 5 to 1 in descending order.\n",
        "# Your code here"
      ]
    },
    {
      "cell_type": "code",
      "execution_count": null,
      "metadata": {
        "id": "PYe5uoooIE_U"
      },
      "outputs": [],
      "source": [
        "# Additional Exercise - Step 5:\n",
        "# Use a while loop to compute the average of the numbers in `my_numbers` and print the average.\n",
        "# Your code here"
      ]
    },
    {
      "cell_type": "code",
      "execution_count": null,
      "metadata": {
        "id": "hJGET9f7IE_U"
      },
      "outputs": [],
      "source": [
        "# Additional Exercise - Step 6:\n",
        "# Use a while loop to compute the product of all numbers in `my_numbers` and print the product.\n",
        "# Your code here"
      ]
    },
    {
      "cell_type": "markdown",
      "metadata": {
        "id": "qz6sT0H1IE_U"
      },
      "source": [
        "### Wrap-Up\n",
        "\n",
        "Today, we learned how to use while loops to repeat actions as long as a condition is true. We saw examples using a counter, iterating over a list, and even cases where the loop does not run because the condition is false. We also practiced several exercises, including computing the sum, average, and product of a list of numbers. Remember to always update your loop variable to avoid infinite loops. Great work today!"
      ]
    }
  ],
  "metadata": {
    "colab": {
      "provenance": []
    },
    "kernelspec": {
      "display_name": "Python 3",
      "language": "python",
      "name": "python3"
    },
    "language_info": {
      "codemirror_mode": {
        "name": "ipython",
        "version": 3
      },
      "file_extension": ".py",
      "mimetype": "text/x-python",
      "name": "python",
      "nbconvert_exporter": "python",
      "pygments_lexer": "ipython3",
      "version": "3.11.9"
    }
  },
  "nbformat": 4,
  "nbformat_minor": 0
}
