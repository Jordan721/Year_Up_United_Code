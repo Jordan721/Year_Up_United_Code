{
  "cells": [
    {
      "cell_type": "markdown",
      "metadata": {
        "id": "8bjJyWzPHHGx"
      },
      "source": [
        "# Homework: Lists and Conditional Logic\n",
        "\n",
        "## **Submission Guidelines**\n",
        "* Focus on completing Exercises 1, 2 and 3. Exercises 4 and 5 are _stretch challenges_.\n",
        "* Submit your by copy and pasting each exercise into the text submission box for this assessment in brightspace* Clearly label each exercise and include comments to explain your logic.\n",
        "\n",
        "## Instructions\n",
        "\n",
        "Complete the following exercises in a single Python file or Jupyter Notebook. Clearly label each exercise and include comments explaining your logic. Focus on completing Exercises 1–3; Exercises 4 and 5 are stretch challenges. **Do not use loops or built-in aggregate functions in Exercises 4 and 5.** Use only basic variables, list indexing (referring to the first element, second element, etc.), conditionals, and arithmetic operations.\n",
        "\n",
        "Focus on completing Exercises 1–3. Exercises 4 and 5 are stretch challenges.\n",
        "\n",
        "**Remember to start with the English steps, write pseudocode, then write code.**"
      ]
    },
    {
      "cell_type": "markdown",
      "metadata": {
        "id": "v4nVlPRSHHGy"
      },
      "source": [
        "### Exercise 1: Basic List Operations\n",
        "\n",
        "1. **Create a List:** Write code to create a list with 5 elements of your choice.\n",
        "2. **Print the List:** Display the original list.\n",
        "3. **Modify the List:**\n",
        "   - Change the second element to a new value.\n",
        "   - Append a new element to the end of the list.\n",
        "   - Remove the third element from the list.\n",
        "4. **Print the Updated List:** Verify your modifications by printing the final list.\n"
      ]
    },
    {
      "cell_type": "code",
      "execution_count": 12,
      "metadata": {
        "id": "PTg4xoerHHGz"
      },
      "outputs": [],
      "source": [
        "# Exercise 1, Step 1: Create a list with 5 elements\n",
        "# Your code here\n",
        "Mario_RPGs = [\"Super Mario RPG\", \"Paper Mario\", \"Mario and Luigi RPg's \", \"Mario Golf GBA\", \"Mario + Rabbits\"]"
      ]
    },
    {
      "cell_type": "code",
      "execution_count": 13,
      "metadata": {
        "id": "pUYvO7UQHHG0"
      },
      "outputs": [
        {
          "name": "stdout",
          "output_type": "stream",
          "text": [
            "Mario RPGs: ['Super Mario RPG', 'Paper Mario', \"Mario and Luigi RPg's \", 'Mario Golf GBA', 'Mario + Rabbits']\n"
          ]
        }
      ],
      "source": [
        "# Exercise 1, Step 2: Print the original list\n",
        "# Your code here\n",
        "print('Mario RPGs:', Mario_RPGs)"
      ]
    },
    {
      "cell_type": "code",
      "execution_count": 25,
      "metadata": {
        "id": "Ugm_ccn2HHG0"
      },
      "outputs": [
        {
          "name": "stdout",
          "output_type": "stream",
          "text": [
            "Mario RPGs: ['Super Mario RPG', 'Super Mario World', \"Mario and Luigi RPg's \", 'Mario Golf GBA', 'Mario + Rabbits']\n",
            "Mario RPGs: ['Super Mario RPG', 'Super Mario World', \"Mario and Luigi RPg's \", 'Mario Golf GBA', 'Mario + Rabbits', 'Super Mario Bros']\n",
            "Mario RPGs: ['Super Mario RPG', 'Super Mario World', 'Mario Golf GBA', 'Mario + Rabbits', 'Super Mario Bros']\n"
          ]
        }
      ],
      "source": [
        "# Exercise 1, Step 3: Modify the list\n",
        "# - Change the second element to a new value\n",
        "# - Append a new element to the end of the list\n",
        "# - Remove the third element from the list\n",
        "# Your code here\n",
        "\n",
        "Mario_RPGs[1] = \"Super Mario World\"\n",
        "print('Mario RPGs:', Mario_RPGs)\n",
        "\n",
        "Mario_RPGs.append(\"Super Mario Bros\")\n",
        "print('Mario RPGs:', Mario_RPGs)\n",
        "\n",
        "Mario_RPGs.remove(\"Mario and Luigi RPg's \")\n",
        "print('Mario RPGs:', Mario_RPGs)"
      ]
    },
    {
      "cell_type": "code",
      "execution_count": 26,
      "metadata": {
        "id": "vLYkIbVLHHG1"
      },
      "outputs": [
        {
          "name": "stdout",
          "output_type": "stream",
          "text": [
            "Mario RPGs: ['Super Mario RPG', 'Super Mario World', 'Mario Golf GBA', 'Mario + Rabbits', 'Super Mario Bros']\n"
          ]
        }
      ],
      "source": [
        "# Exercise 1, Step 4: Print the updated list\n",
        "# Your code here\n",
        "print('Mario RPGs:', Mario_RPGs)"
      ]
    },
    {
      "cell_type": "markdown",
      "metadata": {
        "id": "IP23LVm6HHG1"
      },
      "source": [
        "### Exercise 2: Membership Check\n",
        "\n",
        "1. **Create a List:** Write code to create a list with 5 colors of your choice.\n",
        "2. **Membership Check:** Check if the color \"blue\" is in your list.\n",
        "   - If it is present, print a message confirming that the list contains \"blue\".\n",
        "   - If it is not present, print a message indicating that \"blue\" is not in the list.\n",
        "\n",
        "*Note:* You do not need to retrieve the position of the element; simply print a confirmation message."
      ]
    },
    {
      "cell_type": "code",
      "execution_count": 27,
      "metadata": {
        "id": "sCY-bCYVHHG2"
      },
      "outputs": [],
      "source": [
        "# Exercise 2, Step 1: Create a list with 5 colors\n",
        "# Your code here\n",
        "colors = [\"red\", \"green\", \"blue\", \"yellow\", \"black\"]"
      ]
    },
    {
      "cell_type": "code",
      "execution_count": 28,
      "metadata": {
        "id": "va0HXJZnHHG3"
      },
      "outputs": [
        {
          "name": "stdout",
          "output_type": "stream",
          "text": [
            "The list contains the color blue.\n"
          ]
        }
      ],
      "source": [
        "# Exercise 2, Step 2: Check for membership of 'blue'\n",
        "# Your code here\n",
        "if \"blue\" in colors:\n",
        "    print(\"The list contains the color blue.\")\n",
        "else:\n",
        "    print(\"The list does not contain the color blue.\")"
      ]
    },
    {
      "cell_type": "markdown",
      "metadata": {
        "id": "sEHiLEF_HHG3"
      },
      "source": [
        "### Exercise 3: Real-World List Modification (Hard)\n",
        "\n",
        "Imagine you are managing a set of 5 numbers (for example, representing test scores). Write a program that performs the following tasks (remember: the first element is the first, the second is the second, and so on):\n",
        "\n",
        "1. **Initialize the List:** Create a list of 5 numbers.\n",
        "2. **Conditional Adjustment:** Check if the third element is less than 50.\n",
        "   - If it is, update that element to 50.\n",
        "3. **Conditional Penalty:** Calculate the sum of the first element and the last element.\n",
        "   - If this sum is greater than 100, set the last element to 0.\n",
        "4. **Swap Operation:** Swap the first element with the third element.\n",
        "5. **Print the Final List:** Display the modified list.\n"
      ]
    },
    {
      "cell_type": "code",
      "execution_count": 29,
      "metadata": {
        "id": "DqB2gee4HHG4"
      },
      "outputs": [],
      "source": [
        "# Exercise 3, Step 1: Initialize a list of 5 numbers\n",
        "# Your code here\n",
        "numbers = [10, 20, 30, 40, 50]"
      ]
    },
    {
      "cell_type": "code",
      "execution_count": 22,
      "metadata": {},
      "outputs": [],
      "source": [
        "list_num = [65, 75, 45, 85, 95]"
      ]
    },
    {
      "cell_type": "code",
      "execution_count": 30,
      "metadata": {
        "id": "9cK9EKSkHHG4"
      },
      "outputs": [],
      "source": [
        "# Exercise 3, Step 2: Conditional adjustment - if the third element is less than 50, update it to 50\n",
        "# Your code here\n",
        "\n",
        "if numbers[2] < 50:\n",
        "    numbers[2] = 50"
      ]
    },
    {
      "cell_type": "code",
      "execution_count": 24,
      "metadata": {},
      "outputs": [
        {
          "name": "stdout",
          "output_type": "stream",
          "text": [
            "[65, 75, 50, 85, 95]\n"
          ]
        }
      ],
      "source": [
        "if list_num[2] < 50:\n",
        "    list_num[2] = 50\n",
        "\n",
        "print(list_num)"
      ]
    },
    {
      "cell_type": "code",
      "execution_count": null,
      "metadata": {
        "id": "IS6rROmMHHG4"
      },
      "outputs": [],
      "source": [
        "# Exercise 3, Step 3: Conditional penalty - if the sum of the first and last elements is greater than 100, set the last element to 0\n",
        "# Your code here\n",
        "\n",
        "if numbers[0] + numbers[-1] > 100:\n",
        "    numbers[-1] = 0"
      ]
    },
    {
      "cell_type": "code",
      "execution_count": 25,
      "metadata": {},
      "outputs": [
        {
          "name": "stdout",
          "output_type": "stream",
          "text": [
            "[65, 75, 50, 85, 0]\n"
          ]
        }
      ],
      "source": [
        "if (list_num[0] + list_num[4]) > 100:\n",
        "    list_num[4] = 0\n",
        "\n",
        "print(list_num)"
      ]
    },
    {
      "cell_type": "code",
      "execution_count": 32,
      "metadata": {
        "id": "cG_2ni_zHHG5"
      },
      "outputs": [],
      "source": [
        "# Exercise 3, Step 4: Swap the first element with the third element\n",
        "# Your code here\n",
        "\n",
        "numbers[0], numbers[2] = numbers[2], numbers[0]"
      ]
    },
    {
      "cell_type": "code",
      "execution_count": null,
      "metadata": {},
      "outputs": [
        {
          "name": "stdout",
          "output_type": "stream",
          "text": [
            "[50, 75, 65, 85, 0]\n"
          ]
        }
      ],
      "source": [
        "# list_num[0], list_num[2] = list_num[2], list_num[0]\n",
        "\n",
        "#this is the way you should print the list in code \n",
        "first_element = list_num[0]\n",
        "list_num[0] = list_num[2]\n",
        "\n",
        "list_num[2] = first_element\n",
        "\n",
        "print(list_num)"
      ]
    },
    {
      "cell_type": "code",
      "execution_count": 33,
      "metadata": {
        "id": "TG2UbrGEHHG5"
      },
      "outputs": [
        {
          "name": "stdout",
          "output_type": "stream",
          "text": [
            "Final list: [50, 20, 10, 40, 50]\n"
          ]
        }
      ],
      "source": [
        "# Exercise 3, Step 5: Print the final list\n",
        "# Your code here\n",
        "print(\"Final list:\", numbers)"
      ]
    },
    {
      "cell_type": "code",
      "execution_count": 43,
      "metadata": {},
      "outputs": [
        {
          "name": "stdout",
          "output_type": "stream",
          "text": [
            "Final list: [50, 75, 65, 85, 0]\n"
          ]
        }
      ],
      "source": [
        "print(\"Final list:\", list_num)"
      ]
    },
    {
      "cell_type": "markdown",
      "metadata": {
        "id": "m3lEibDjHHG5"
      },
      "source": [
        "### Exercise 4: Manual Analysis Without Loops or Built-In Functions (Extra Hard)\n",
        "\n",
        "You are given a list of 10 numbers (for instance, representing grades). Without using loops or built-in functions (such as `sum()`, `len()`, etc.), complete the following tasks by manually accessing each element:\n",
        "\n",
        "1. **Create a List:** Write code to create a list with 10 numbers.\n",
        "2. **Compute the Total:** Manually add all the numbers by accessing each element individually.\n",
        "3. **Calculate the Average:** Divide the total by the number of elements in the list.\n",
        "4. **Determine the Highest Value:** Use `if` statements to compare the elements and determine the highest value.\n",
        "5. **Determine the Lowest Value:** Similarly, determine the lowest value among the elements.\n",
        "6. **Print Your Results:** Display the average, highest, and lowest values.\n"
      ]
    },
    {
      "cell_type": "code",
      "execution_count": null,
      "metadata": {
        "id": "h-90DW0MHHG5"
      },
      "outputs": [],
      "source": [
        "# Exercise 4, Step 1: Create a list with 10 numbers\n",
        "# Your code here"
      ]
    },
    {
      "cell_type": "code",
      "execution_count": null,
      "metadata": {
        "id": "8ECba3YxHHG5"
      },
      "outputs": [],
      "source": [
        "# Exercise 4, Step 2: Manually compute the total of all numbers\n",
        "# Your code here"
      ]
    },
    {
      "cell_type": "code",
      "execution_count": null,
      "metadata": {
        "id": "wOVI2jMYHHG6"
      },
      "outputs": [],
      "source": [
        "# Exercise 4, Step 3: Calculate the average of the numbers\n",
        "# Your code here"
      ]
    },
    {
      "cell_type": "code",
      "execution_count": null,
      "metadata": {
        "id": "DO03E35dHHG6"
      },
      "outputs": [],
      "source": [
        "# Exercise 4, Step 4: Determine the highest value using if statements\n",
        "# Your code here"
      ]
    },
    {
      "cell_type": "code",
      "execution_count": null,
      "metadata": {
        "id": "sEtMBqOiHHG6"
      },
      "outputs": [],
      "source": [
        "# Exercise 4, Step 5: Determine the lowest value using if statements\n",
        "# Your code here"
      ]
    },
    {
      "cell_type": "code",
      "execution_count": null,
      "metadata": {
        "id": "h0LcXzyBHHG6"
      },
      "outputs": [],
      "source": [
        "# Exercise 4, Step 6: Print the average, highest, and lowest values\n",
        "# Your code here"
      ]
    },
    {
      "cell_type": "markdown",
      "metadata": {
        "id": "B1M1I180HHG6"
      },
      "source": [
        "### Exercise 5: Vowel Filter Without Loops (Nearly Impossible)\n",
        "\n",
        "Create a program that filters a list of 7 strings to include only those that start with a vowel. **Do not use loops.** Instead, use individual conditional statements and manual indexing.\n",
        "\n",
        "1. **Create a List:** Write code to create a list with 7 strings of your choice.\n",
        "2. **Filter the List:** For each string in the list, check if its first character is a vowel (a, e, i, o, or u).\n",
        "   - *Hint:* To access the first character of a string, use `string[0]`.\n",
        "   - For each string that starts with a vowel, add it to a new list manually.\n",
        "3. **Print the New List:** Display the list of strings that begin with a vowel.\n"
      ]
    },
    {
      "cell_type": "code",
      "execution_count": null,
      "metadata": {
        "id": "6x9kGPQpHHG6"
      },
      "outputs": [],
      "source": [
        "# Exercise 5, Step 1: Create a list with 7 strings\n",
        "# Your code here"
      ]
    },
    {
      "cell_type": "code",
      "execution_count": null,
      "metadata": {
        "id": "Wq-Gc7FKHHG7"
      },
      "outputs": [],
      "source": [
        "# Exercise 5, Step 2: Filter the list to include only strings that start with a vowel\n",
        "# Your code here"
      ]
    },
    {
      "cell_type": "code",
      "execution_count": null,
      "metadata": {
        "id": "etOIOzetHHG7"
      },
      "outputs": [],
      "source": [
        "# Exercise 5, Step 3: Print the new list of strings that start with a vowel\n",
        "# Your code here"
      ]
    },
    {
      "cell_type": "markdown",
      "metadata": {
        "id": "ysgbIJd8HHG7"
      },
      "source": [
        "### Submission Guidelines\n",
        "\n",
        "- Submit your work as a single Python file (`.py`) or a Jupyter Notebook (`.ipynb`).\n",
        "- Clearly label each exercise and include comments to explain your logic.\n",
        "- Focus on completing Exercises 1–3; Exercises 4 and 5 are stretch challenges.\n",
        "- Do not use loops or built-in aggregate functions in Exercises 4 and 5.\n",
        "\n",
        "Good luck, and have fun practicing your list and conditional skills!"
      ]
    }
  ],
  "metadata": {
    "colab": {
      "provenance": []
    },
    "kernelspec": {
      "display_name": "Python 3",
      "language": "python",
      "name": "python3"
    },
    "language_info": {
      "codemirror_mode": {
        "name": "ipython",
        "version": 3
      },
      "file_extension": ".py",
      "mimetype": "text/x-python",
      "name": "python",
      "nbconvert_exporter": "python",
      "pygments_lexer": "ipython3",
      "version": "3.11.9"
    }
  },
  "nbformat": 4,
  "nbformat_minor": 0
}
