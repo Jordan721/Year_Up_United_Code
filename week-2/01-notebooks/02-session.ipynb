{
  "cells": [
    {
      "cell_type": "markdown",
      "id": "80010d9d",
      "metadata": {
        "id": "80010d9d"
      },
      "source": [
        "# Session 2: Advanced Conditional Logic\n",
        "\n",
        "Welcome to Session 2! Now that we understand basic conditionals, we will focus on **advanced logic structures**, including **deeply nested conditions, multi-level decision-making, and optimizing complex logic**.\n",
        "\n",
        "## Agenda\n",
        "1. **Review and Demo** (15 minutes): Quick recap of logical operators and conditionals.\n",
        "2. **New Information – Advanced Nested Conditions** (40–45 minutes): Learn how to optimize and structure multi-level conditions.\n",
        "3. **We Do (Exercises) and Wrap-Up** (30 minutes): Solve a complex real-world decision-making challenge.\n"
      ]
    },
    {
      "cell_type": "markdown",
      "id": "fe5684d9",
      "metadata": {
        "id": "fe5684d9"
      },
      "source": [
        "## Part 1: Review and Demo"
      ]
    },
    {
      "cell_type": "markdown",
      "id": "e18f4853",
      "metadata": {
        "id": "e18f4853"
      },
      "source": [
        "Let's review key concepts from Session 1 before moving to advanced conditional logic.\n",
        "\n",
        "**Key Topics from Session 1:**\n",
        "- Logical operators (`and`, `or`, `not`).\n",
        "- Boolean values and truthy/falsy evaluation.\n",
        "- Writing simple `if-else` statements.\n",
        "\n",
        "### Quick Review Questions:\n",
        "1. What is the difference between `and` and `or` operators?\n",
        "2. Why might excessive nesting be problematic in conditionals?\n",
        "3. What values are considered falsy in Python?\n"
      ]
    },
    {
      "cell_type": "code",
      "execution_count": 19,
      "id": "c871dc4b",
      "metadata": {
        "id": "c871dc4b"
      },
      "outputs": [
        {
          "name": "stdout",
          "output_type": "stream",
          "text": [
            "YES\n"
          ]
        }
      ],
      "source": [
        "# Review: Logical Operators\n",
        "\n",
        "x = 20\n",
        "y = 4\n",
        "\n",
        "#First Round  - ignore\n",
        "\n",
        "#Second Round - we won\n",
        "\n",
        "#Third Round - we lost\n",
        "\n",
        "#if secondroundwin or thirdroundwin:\n",
        "  #  print(\"WE WON THE MATCH\")\n",
        "\n",
        "\n",
        "if x >= 10 and y<= 20:\n",
        "    print(\"YES\")\n"
      ]
    },
    {
      "cell_type": "code",
      "execution_count": null,
      "id": "3c7667ba",
      "metadata": {
        "id": "3c7667ba"
      },
      "outputs": [
        {
          "name": "stdout",
          "output_type": "stream",
          "text": [
            "Truthy\n"
          ]
        }
      ],
      "source": [
        "# Review: Truthy/Falsy Values\n",
        "\n",
        "example = \"something\"\n",
        "\n",
        "if \"example\":\n",
        "    print(\"Truthy\")\n",
        "else:\n",
        "    print(\"Falsy\")\n",
        "\n",
        "    if 1:\n",
        "        print(\"Truthy\")\n",
        "    else:\n",
        "            print(\"Falsy\")\n",
        "    "
      ]
    },
    {
      "cell_type": "markdown",
      "id": "334494d2",
      "metadata": {
        "id": "334494d2"
      },
      "source": [
        "## Part 2: New Information – Structuring Complex Decision Trees"
      ]
    },
    {
      "cell_type": "markdown",
      "id": "66acde0a",
      "metadata": {
        "id": "66acde0a"
      },
      "source": [
        "### 1. Nested If-Else Statements\n",
        "Conditional statements can be nested for more complex logic.\n",
        "\n",
        "**Example:**"
      ]
    },
    {
      "cell_type": "markdown",
      "id": "b7a4a6f2",
      "metadata": {},
      "source": [
        "A nested if statement in Python is an if statement placed inside another if or else block. It allows for checking multiple conditions sequentially. The inner if condition is evaluated only if the outer if condition is true. This structure enables more complex decision-making processes based on multiple criteria. "
      ]
    },
    {
      "cell_type": "code",
      "execution_count": 4,
      "id": "6ecf1e0f",
      "metadata": {
        "id": "6ecf1e0f"
      },
      "outputs": [
        {
          "name": "stdout",
          "output_type": "stream",
          "text": [
            "You passed!\n",
            "Good job!\n"
          ]
        }
      ],
      "source": [
        "score = 85\n",
        "if score >= 78:\n",
        "    print('You passed!')\n",
        "    #this is the nested if statement\n",
        "    if score >= 90:\n",
        "        print('Excellent work!')\n",
        "    elif score >= 75:\n",
        "        print('Good job!')\n",
        "        #this ends the is the nested if stantemnt \n",
        "else:\n",
        "    print('You failed.')"
      ]
    },
    {
      "cell_type": "code",
      "execution_count": 2,
      "id": "0d897f88",
      "metadata": {
        "id": "0d897f88"
      },
      "outputs": [
        {
          "name": "stdout",
          "output_type": "stream",
          "text": [
            "You are eligible for the job\n"
          ]
        }
      ],
      "source": [
        "age = 25\n",
        "experience = 2\n",
        "if age >= 18:\n",
        "    if experience >= 1:\n",
        "        print('You are eligible for the job')\n",
        "    else:\n",
        "        print('More experience needed')\n",
        "else:\n",
        "    print('You are too young for this role')"
      ]
    },
    {
      "cell_type": "markdown",
      "id": "ebdb2450",
      "metadata": {
        "id": "ebdb2450"
      },
      "source": [
        "### 2. Deeply Nested Conditions\n",
        "When handling **multi-step logic**, conditions may become deeply nested. However, excessive nesting can make code hard to read.\n",
        "\n",
        "**Example of deep nesting (bad practice):**\n"
      ]
    },
    {
      "cell_type": "code",
      "execution_count": 5,
      "id": "1e92fbb0",
      "metadata": {
        "id": "1e92fbb0"
      },
      "outputs": [
        {
          "name": "stdout",
          "output_type": "stream",
          "text": [
            "Loan approved\n"
          ]
        }
      ],
      "source": [
        "age = 30\n",
        "income = 50000\n",
        "credit_score = 750\n",
        "if age >= 18:\n",
        "    if income >= 25000:\n",
        "        if credit_score >= 700:\n",
        "            print('Loan approved')\n",
        "        else:\n",
        "            print('Credit score too low')\n",
        "    else:\n",
        "        print('Income too low')\n",
        "else:\n",
        "    print('Applicant is underage')\n"
      ]
    },
    {
      "cell_type": "markdown",
      "id": "bf6f28d6",
      "metadata": {
        "id": "bf6f28d6"
      },
      "source": [
        "This works but is **not optimal**. We can **flatten** the logic using `and` conditions:\n"
      ]
    },
    {
      "cell_type": "code",
      "execution_count": null,
      "id": "1ddb182a",
      "metadata": {
        "id": "1ddb182a"
      },
      "outputs": [],
      "source": [
        "if age >= 18 and income >= 25000 and credit_score >= 700:\n",
        "    print('Loan approved')\n",
        "elif age < 18:\n",
        "    print('Applicant is underage')\n",
        "elif income < 25000:\n",
        "    print('Income too low')\n",
        "else:\n",
        "    print('Credit score too low')\n"
      ]
    },
    {
      "cell_type": "markdown",
      "id": "bd094f4f",
      "metadata": {
        "id": "bd094f4f"
      },
      "source": [
        "### 3. Multi-Level Decision Structures"
      ]
    },
    {
      "cell_type": "markdown",
      "id": "6ee6e8b1",
      "metadata": {
        "id": "6ee6e8b1"
      },
      "source": [
        "We can **combine** multiple conditions to create decision trees.\n",
        "\n",
        "**Example:** Ticket Pricing System\n"
      ]
    },
    {
      "cell_type": "code",
      "execution_count": 6,
      "id": "a51cc797",
      "metadata": {
        "id": "a51cc797"
      },
      "outputs": [
        {
          "ename": "TypeError",
          "evalue": "can only concatenate str (not \"float\") to str",
          "output_type": "error",
          "traceback": [
            "\u001b[31m---------------------------------------------------------------------------\u001b[39m",
            "\u001b[31mTypeError\u001b[39m                                 Traceback (most recent call last)",
            "\u001b[36mCell\u001b[39m\u001b[36m \u001b[39m\u001b[32mIn[6]\u001b[39m\u001b[32m, line 16\u001b[39m\n\u001b[32m     13\u001b[39m \u001b[38;5;28;01mif\u001b[39;00m membership:\n\u001b[32m     14\u001b[39m     price *= \u001b[32m0.9\u001b[39m  \u001b[38;5;66;03m# 10% discount for members\u001b[39;00m\n\u001b[32m---> \u001b[39m\u001b[32m16\u001b[39m \u001b[38;5;28mprint\u001b[39m(\u001b[33;43m'\u001b[39;49m\u001b[33;43mTicket price: \u001b[39;49m\u001b[33;43m'\u001b[39;49m\u001b[43m \u001b[49m\u001b[43m+\u001b[49m\u001b[43m \u001b[49m\u001b[43mprice\u001b[49m)\n",
            "\u001b[31mTypeError\u001b[39m: can only concatenate str (not \"float\") to str"
          ]
        }
      ],
      "source": [
        "age = 18\n",
        "membership = True\n",
        "\n",
        "if age < 12:\n",
        "    price = 5\n",
        "elif age < 18:\n",
        "    price = 8\n",
        "elif age >= 60:\n",
        "    price = 6\n",
        "else:\n",
        "    price = 10\n",
        "\n",
        "if membership:\n",
        "    price *= 0.9  # 10% discount for members\n",
        "\n",
        "print('Ticket price: ' + price)\n"
      ]
    },
    {
      "cell_type": "markdown",
      "id": "1b390ded",
      "metadata": {
        "id": "1b390ded"
      },
      "source": [
        "Here, we **first categorize by age** and **then adjust price based on membership status**.\n"
      ]
    },
    {
      "cell_type": "markdown",
      "id": "fd8fa8df",
      "metadata": {
        "id": "fd8fa8df"
      },
      "source": [
        "### 4. Inline Conditionals (`if-else` in One Line)\n",
        "\n",
        "Python allows you to write simple `if-else` statements in a single line using the following format:"
      ]
    },
    {
      "cell_type": "code",
      "execution_count": null,
      "id": "a2752dc1",
      "metadata": {
        "id": "a2752dc1"
      },
      "outputs": [],
      "source": [
        "value_if_true if condition else value_if_false"
      ]
    },
    {
      "cell_type": "markdown",
      "id": "2cd840fa",
      "metadata": {
        "id": "2cd840fa"
      },
      "source": [
        "**Example:** Age Check"
      ]
    },
    {
      "cell_type": "code",
      "execution_count": null,
      "id": "30aff01e",
      "metadata": {
        "id": "30aff01e"
      },
      "outputs": [],
      "source": [
        "age = 20\n",
        "status = \"Adult\" if age >= 18 else \"Minor\"\n",
        "print(status)"
      ]
    },
    {
      "cell_type": "markdown",
      "id": "dc66c705",
      "metadata": {
        "id": "dc66c705"
      },
      "source": [
        "This is the same as writing:"
      ]
    },
    {
      "cell_type": "code",
      "execution_count": null,
      "id": "f65520f5",
      "metadata": {
        "id": "f65520f5"
      },
      "outputs": [],
      "source": [
        "if age >= 18:\n",
        "    status = \"Adult\"\n",
        "else:\n",
        "    status = \"Minor\""
      ]
    },
    {
      "cell_type": "markdown",
      "id": "06286702",
      "metadata": {
        "id": "06286702"
      },
      "source": [
        "**Example:** Even or Odd"
      ]
    },
    {
      "cell_type": "code",
      "execution_count": null,
      "id": "96712dc9",
      "metadata": {
        "id": "96712dc9"
      },
      "outputs": [],
      "source": [
        "number = 7\n",
        "result = \"Even\" if number % 2 == 0 else \"Odd\"\n",
        "print(result)"
      ]
    },
    {
      "cell_type": "markdown",
      "id": "bc5a0776",
      "metadata": {
        "id": "bc5a0776"
      },
      "source": [
        "**Example:** Time-based Greeting"
      ]
    },
    {
      "cell_type": "code",
      "execution_count": null,
      "id": "fa873fb5",
      "metadata": {
        "id": "fa873fb5"
      },
      "outputs": [],
      "source": [
        "hour = 14\n",
        "greeting = \"Good morning\" if hour < 12 else \"Good afternoon\"\n",
        "print(greeting)"
      ]
    },
    {
      "cell_type": "markdown",
      "id": "1eb3439a",
      "metadata": {
        "id": "1eb3439a"
      },
      "source": [
        "### **Why Use Inline Conditionals?**\n",
        "- **Saves space** for simple conditions.\n",
        "- **Improves readability** when used wisely.\n",
        "- **Avoids unnecessary lines** for short decisions."
      ]
    },
    {
      "cell_type": "markdown",
      "id": "deacfc96",
      "metadata": {
        "id": "deacfc96"
      },
      "source": [
        "## Part 3: We Do (Complex Exercise) and Wrap-Up"
      ]
    },
    {
      "cell_type": "markdown",
      "id": "89626d5c",
      "metadata": {
        "id": "89626d5c"
      },
      "source": [
        "### **Scenario: Smart Home Automation System**\n",
        "\n",
        "You are designing a **smart home system** that controls the air conditioning and heating based on temperature and occupancy.\n",
        "\n",
        "**Requirements:**\n",
        "- If the room temperature is below 60°F, the heater turns on.\n",
        "- If the room temperature is above 75°F, the air conditioner turns on.\n",
        "- If no one is in the room, the system turns off all devices.\n",
        "- If someone is sleeping, the system keeps the temperature between **65°F and 72°F**.\n",
        "\n",
        "**Write a Python program that:**\n",
        "1. Uses predefined values for temperature, room occupancy (`True/False`), and sleeping status (`True/False`).\n",
        "2. Uses nested conditions and `elif` structures to determine the correct action.\n",
        "3. Outputs what action the system should take based on the conditions.\n",
        "\n",
        "Try modifying different values in the program to test different scenarios!"
      ]
    },
    {
      "cell_type": "code",
      "execution_count": null,
      "id": "1f7d857e",
      "metadata": {
        "id": "1f7d857e"
      },
      "outputs": [],
      "source": [
        "temperature = 75\n",
        "occupied = True\n",
        "sleeping = False\n",
        "\n",
        "# Your logic goes here\n"
      ]
    },
    {
      "cell_type": "markdown",
      "id": "3bf2d934",
      "metadata": {
        "id": "3bf2d934"
      },
      "source": [
        "### Wrap-Up\n",
        "Today, we:\n",
        "- Reviewed logical operators and conditional structures.\n",
        "- Learned how to **flatten** and **optimize** nested conditions.\n",
        "- Used structured logic to build a **decision tree system**."
      ]
    }
  ],
  "metadata": {
    "colab": {
      "provenance": []
    },
    "kernelspec": {
      "display_name": "Python 3",
      "name": "python3"
    },
    "language_info": {
      "codemirror_mode": {
        "name": "ipython",
        "version": 3
      },
      "file_extension": ".py",
      "mimetype": "text/x-python",
      "name": "python",
      "nbconvert_exporter": "python",
      "pygments_lexer": "ipython3",
      "version": "3.11.9"
    }
  },
  "nbformat": 4,
  "nbformat_minor": 5
}
