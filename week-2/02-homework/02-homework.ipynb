{
  "cells": [
    {
      "cell_type": "markdown",
      "metadata": {
        "id": "K-h9iBm6gsIA"
      },
      "source": [
        "# Homework: Advanced Conditional Logic"
      ]
    },
    {
      "cell_type": "markdown",
      "metadata": {
        "id": "mf6ZepZqgsIC"
      },
      "source": [
        "## **Submission Guidelines**"
      ]
    },
    {
      "cell_type": "markdown",
      "metadata": {
        "id": "q2XZUxBhgsIC"
      },
      "source": [
        "* Focus on completing Exercises 1–4; Exercise 5 is a stretch challenge.\n",
        "* Submit your by copy and pasting each exercise into the text submission box for this assessment in brightspace\n",
        "* Clearly label each exercise and include comments to explain your logic."
      ]
    },
    {
      "cell_type": "code",
      "execution_count": null,
      "metadata": {
        "id": "VtZALU-lgsID"
      },
      "outputs": [],
      "source": []
    },
    {
      "cell_type": "markdown",
      "metadata": {
        "id": "IewrfCvAgsID"
      },
      "source": [
        "\n",
        "\n",
        "## Instructions"
      ]
    },
    {
      "cell_type": "markdown",
      "metadata": {
        "id": "GmH5pXGbgsID"
      },
      "source": [
        "\n",
        "Copy this Jupyter Notebook and complete each exercise in the provided spaces.  \n",
        "\n",
        "- Clearly label each exercise and include comments explaining your logic.  \n",
        "- Focus on completing Exercises 1–4; Exercise 5 is a stretch challenge.\n",
        "- Modify the predefined variables as needed to test different cases.  \n",
        "\n",
        "**Remember to start with the English steps, write pseudocode, then write code.**"
      ]
    },
    {
      "cell_type": "markdown",
      "metadata": {
        "id": "r7x6VL4jgsID"
      },
      "source": [
        "## **Exercise 1: Multi-Condition Decisions**"
      ]
    },
    {
      "cell_type": "markdown",
      "metadata": {
        "id": "ybP4_o0LgsIE"
      },
      "source": [
        "\n",
        "A **movie rating system** follows these rules:\n",
        "   - If `age` is **less than 13**, print `\"PG movies only\"`.\n",
        "   - If `age` is **between 13 and 17**, print `\"PG-13 movies allowed\"`.\n",
        "   - Otherwise, print `\"All movies allowed\"`."
      ]
    },
    {
      "cell_type": "code",
      "execution_count": null,
      "metadata": {
        "id": "m7PMvFV6gsIE"
      },
      "outputs": [],
      "source": [
        "# Exercise 1\n",
        "age = 15  # Change this value to test\n",
        "# Your logic here\n"
      ]
    },
    {
      "cell_type": "markdown",
      "metadata": {
        "id": "Dg6gWmWCgsIE"
      },
      "source": [
        "## **Exercise 2: Decision Tree for Discounts**"
      ]
    },
    {
      "cell_type": "markdown",
      "metadata": {
        "id": "IeAWChsugsIF"
      },
      "source": [
        "\n",
        "A **discount system** follows these rules:\n",
        "- If `is_student` is `True`, apply a 20% discount.\n",
        "- If `age` is **65 or older**, apply a 15% discount.\n",
        "- If both conditions are met, apply the higher discount only."
      ]
    },
    {
      "cell_type": "code",
      "execution_count": null,
      "metadata": {
        "id": "bSELwdqlgsIF"
      },
      "outputs": [],
      "source": [
        "# Exercise 2\n",
        "is_student = False  # Change this value to test\n",
        "age = 70  # Change this value to test\n",
        "\n",
        "# Your logic here\n"
      ]
    },
    {
      "cell_type": "markdown",
      "metadata": {
        "id": "AqX60e2vgsIF"
      },
      "source": [
        "\n",
        "## **Exercise 3: Loan Approval System**"
      ]
    },
    {
      "cell_type": "markdown",
      "metadata": {
        "id": "LRVDmBsfgsIF"
      },
      "source": [
        "\n",
        "A **loan approval system** follows these rules:\n",
        "- Applicant **must be at least 18**.\n",
        "- Loan is **approved** if `income` is over **40k** OR `credit_score` is above **700**.\n",
        "- If the applicant has `has_debt = True`, then **both** conditions are required."
      ]
    },
    {
      "cell_type": "code",
      "execution_count": null,
      "metadata": {
        "id": "tuClZ1ntgsIF"
      },
      "outputs": [],
      "source": [
        "# Exercise 3\n",
        "age = 30  # Change this value to test\n",
        "income = 45000  # Change this value to test\n",
        "credit_score = 710  # Change this value to test\n",
        "has_debt = False  # Change this value to test\n",
        "\n",
        "# Your logic here\n",
        "\n"
      ]
    },
    {
      "cell_type": "markdown",
      "metadata": {
        "id": "IK5p58sRgsIF"
      },
      "source": [
        "## **Exercise 4: Complex Weather Decision System**"
      ]
    },
    {
      "cell_type": "markdown",
      "metadata": {
        "id": "ynjfdzyrgsIF"
      },
      "source": [
        "\n",
        "A **weather advisory system** follows these rules:\n",
        "- If `temperature` is **below 32°F**, print `\"Freezing warning\"`.\n",
        "- If `temperature` is **between 32°F and 50°F**, print `\"Cold weather\"`.\n",
        "- If `temperature` is **above 50°F** and `humidity` is **above 70%**, print `\"Warm but humid\"`.\n",
        "- Otherwise, print `\"Mild weather\"`.\n"
      ]
    },
    {
      "cell_type": "code",
      "execution_count": null,
      "metadata": {
        "id": "Um9KZCtYgsIF"
      },
      "outputs": [],
      "source": [
        "# Exercise 4\n",
        "temperature = 55  # Change this value to test\n",
        "humidity = 80  # Change this value to test\n",
        "# Your logic here\n"
      ]
    },
    {
      "cell_type": "markdown",
      "metadata": {
        "id": "IOxOL7AWgsIG"
      },
      "source": [
        "## **Exercise 5: Advanced Multi-Step Bank Security System (Extra Hard)**"
      ]
    },
    {
      "cell_type": "markdown",
      "metadata": {
        "id": "spuy2O_ugsIG"
      },
      "source": [
        "\n",
        "Design a **bank security system** that follows these rules:\n",
        "- If `is_employee = True`, grant full access.\n",
        "- If `is_manager = True`, grant access to sensitive files.\n",
        "- If `is_customer = True` and `account_balance > 1000`, allow transactions.\n",
        "- If none of the conditions apply, print `\"Access Denied\"`.\n",
        "- **Extended Rule:** If `security_alert = True`, deny all access regardless of other conditions."
      ]
    },
    {
      "cell_type": "code",
      "execution_count": null,
      "metadata": {
        "id": "STFP6F3tgsIG"
      },
      "outputs": [],
      "source": [
        "# Exercise 5\n",
        "is_employee = False  # Change this value to test\n",
        "is_manager = False  # Change this value to test\n",
        "is_customer = True  # Change this value to test\n",
        "account_balance = 5000  # Change this value to test\n",
        "security_alert = False  # Change this value to test\n",
        "# Your logic here\n"
      ]
    },
    {
      "cell_type": "markdown",
      "metadata": {
        "id": "12iRh4QkgsIG"
      },
      "source": [
        "## **Submission Guidelines**"
      ]
    },
    {
      "cell_type": "markdown",
      "metadata": {
        "id": "mJc6mX2rgsIG"
      },
      "source": [
        "\n",
        "- Submit your work as a `.py` or `.ipynb` file.\n",
        "- Clearly label each exercise and include comments.\n",
        "- Focus on completing Exercises 1–4; Exercise 5 is a stretch challenge.\n",
        "- Have fun practicing your advanced conditionals!"
      ]
    }
  ],
  "metadata": {
    "language_info": {
      "name": "python"
    },
    "colab": {
      "provenance": []
    },
    "kernelspec": {
      "name": "python3",
      "display_name": "Python 3"
    }
  },
  "nbformat": 4,
  "nbformat_minor": 0
}